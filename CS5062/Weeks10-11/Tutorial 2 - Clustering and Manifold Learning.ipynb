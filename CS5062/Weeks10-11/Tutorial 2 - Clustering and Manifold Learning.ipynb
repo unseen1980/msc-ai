{
 "cells": [
  {
   "cell_type": "markdown",
   "metadata": {},
   "source": [
    "# Tutorial 2: Clustering and Manifold Learning"
   ]
  },
  {
   "cell_type": "markdown",
   "metadata": {},
   "source": [
    "This notebook demonstrates:\n",
    "- the k-Means clustering algorithm\n",
    "- the use of manifold-learning techniques to project a clustered dataset into a 2D space and visualise it as a scatterplot\n",
    "\n",
    "In this tutorial, we use the well-known __iris__ dataset (see https://archive.ics.uci.edu/dataset/53/iris) with the labels removed. This dataset contains the dimensions and the species (the label) of 150 iris flowers. The goal of this tutorial is to find a clustering of the dataset when the label is removed and see if the 150 iris flowers naturally fall into separate groups/clusters. A secondary goal is to use manifold learning techniques for visualising the clustering in 2D.\n",
    "\n",
    "When you go through this notebook for the first time you may __skip section C__ and go back to it at the end."
   ]
  },
  {
   "cell_type": "markdown",
   "metadata": {},
   "source": [
    "### A. Import Python Modules and Dataset"
   ]
  },
  {
   "cell_type": "code",
   "execution_count": 1,
   "metadata": {},
   "outputs": [],
   "source": [
    "import pandas as pd\n",
    "import numpy as np\n",
    "import matplotlib.pyplot as plt\n",
    "\n",
    "from sklearn import manifold #needed for multidimensional scaling (MDS) and t-SNE\n",
    "from sklearn import cluster #needed for k-Means clustering\n",
    "from sklearn.preprocessing import MinMaxScaler, StandardScaler, RobustScaler, FunctionTransformer #needed for data preparation\n",
    "\n",
    "from sklearn.pipeline import Pipeline, make_pipeline\n",
    "from sklearn.compose import ColumnTransformer\n",
    "from sklearn import set_config"
   ]
  },
  {
   "cell_type": "markdown",
   "metadata": {},
   "source": [
    "#### Load the dataset"
   ]
  },
  {
   "cell_type": "code",
   "execution_count": 2,
   "metadata": {},
   "outputs": [
    {
     "name": "stdout",
     "output_type": "stream",
     "text": [
      "(number of examples, number of attributes):  (150, 4)\n"
     ]
    }
   ],
   "source": [
    "df = pd.read_csv(\"./iris_nolabels.csv\")\n",
    "print('(number of examples, number of attributes): ', df.shape)"
   ]
  },
  {
   "cell_type": "markdown",
   "metadata": {},
   "source": [
    "### B. Exploratory Data Analysis and Data Preparation"
   ]
  },
  {
   "cell_type": "code",
   "execution_count": 3,
   "metadata": {},
   "outputs": [
    {
     "data": {
      "text/html": [
       "<div>\n",
       "<style scoped>\n",
       "    .dataframe tbody tr th:only-of-type {\n",
       "        vertical-align: middle;\n",
       "    }\n",
       "\n",
       "    .dataframe tbody tr th {\n",
       "        vertical-align: top;\n",
       "    }\n",
       "\n",
       "    .dataframe thead th {\n",
       "        text-align: right;\n",
       "    }\n",
       "</style>\n",
       "<table border=\"1\" class=\"dataframe\">\n",
       "  <thead>\n",
       "    <tr style=\"text-align: right;\">\n",
       "      <th></th>\n",
       "      <th>sepallength</th>\n",
       "      <th>sepalwidth</th>\n",
       "      <th>petallength</th>\n",
       "      <th>petalwidth</th>\n",
       "    </tr>\n",
       "  </thead>\n",
       "  <tbody>\n",
       "    <tr>\n",
       "      <th>0</th>\n",
       "      <td>5.1</td>\n",
       "      <td>3.5</td>\n",
       "      <td>1.4</td>\n",
       "      <td>0.2</td>\n",
       "    </tr>\n",
       "    <tr>\n",
       "      <th>1</th>\n",
       "      <td>4.9</td>\n",
       "      <td>3.0</td>\n",
       "      <td>1.4</td>\n",
       "      <td>0.2</td>\n",
       "    </tr>\n",
       "    <tr>\n",
       "      <th>2</th>\n",
       "      <td>4.7</td>\n",
       "      <td>3.2</td>\n",
       "      <td>1.3</td>\n",
       "      <td>0.2</td>\n",
       "    </tr>\n",
       "    <tr>\n",
       "      <th>3</th>\n",
       "      <td>4.6</td>\n",
       "      <td>3.1</td>\n",
       "      <td>1.5</td>\n",
       "      <td>0.2</td>\n",
       "    </tr>\n",
       "    <tr>\n",
       "      <th>4</th>\n",
       "      <td>5.0</td>\n",
       "      <td>3.6</td>\n",
       "      <td>1.4</td>\n",
       "      <td>0.2</td>\n",
       "    </tr>\n",
       "  </tbody>\n",
       "</table>\n",
       "</div>"
      ],
      "text/plain": [
       "   sepallength  sepalwidth  petallength  petalwidth\n",
       "0          5.1         3.5          1.4         0.2\n",
       "1          4.9         3.0          1.4         0.2\n",
       "2          4.7         3.2          1.3         0.2\n",
       "3          4.6         3.1          1.5         0.2\n",
       "4          5.0         3.6          1.4         0.2"
      ]
     },
     "execution_count": 3,
     "metadata": {},
     "output_type": "execute_result"
    }
   ],
   "source": [
    "df.head()"
   ]
  },
  {
   "cell_type": "code",
   "execution_count": 4,
   "metadata": {},
   "outputs": [
    {
     "data": {
      "text/html": [
       "<div>\n",
       "<style scoped>\n",
       "    .dataframe tbody tr th:only-of-type {\n",
       "        vertical-align: middle;\n",
       "    }\n",
       "\n",
       "    .dataframe tbody tr th {\n",
       "        vertical-align: top;\n",
       "    }\n",
       "\n",
       "    .dataframe thead th {\n",
       "        text-align: right;\n",
       "    }\n",
       "</style>\n",
       "<table border=\"1\" class=\"dataframe\">\n",
       "  <thead>\n",
       "    <tr style=\"text-align: right;\">\n",
       "      <th></th>\n",
       "      <th>sepallength</th>\n",
       "      <th>sepalwidth</th>\n",
       "      <th>petallength</th>\n",
       "      <th>petalwidth</th>\n",
       "    </tr>\n",
       "  </thead>\n",
       "  <tbody>\n",
       "    <tr>\n",
       "      <th>145</th>\n",
       "      <td>6.7</td>\n",
       "      <td>3.0</td>\n",
       "      <td>5.2</td>\n",
       "      <td>2.3</td>\n",
       "    </tr>\n",
       "    <tr>\n",
       "      <th>146</th>\n",
       "      <td>6.3</td>\n",
       "      <td>2.5</td>\n",
       "      <td>5.0</td>\n",
       "      <td>1.9</td>\n",
       "    </tr>\n",
       "    <tr>\n",
       "      <th>147</th>\n",
       "      <td>6.5</td>\n",
       "      <td>3.0</td>\n",
       "      <td>5.2</td>\n",
       "      <td>2.0</td>\n",
       "    </tr>\n",
       "    <tr>\n",
       "      <th>148</th>\n",
       "      <td>6.2</td>\n",
       "      <td>3.4</td>\n",
       "      <td>5.4</td>\n",
       "      <td>2.3</td>\n",
       "    </tr>\n",
       "    <tr>\n",
       "      <th>149</th>\n",
       "      <td>5.9</td>\n",
       "      <td>3.0</td>\n",
       "      <td>5.1</td>\n",
       "      <td>1.8</td>\n",
       "    </tr>\n",
       "  </tbody>\n",
       "</table>\n",
       "</div>"
      ],
      "text/plain": [
       "     sepallength  sepalwidth  petallength  petalwidth\n",
       "145          6.7         3.0          5.2         2.3\n",
       "146          6.3         2.5          5.0         1.9\n",
       "147          6.5         3.0          5.2         2.0\n",
       "148          6.2         3.4          5.4         2.3\n",
       "149          5.9         3.0          5.1         1.8"
      ]
     },
     "execution_count": 4,
     "metadata": {},
     "output_type": "execute_result"
    }
   ],
   "source": [
    "df.tail()"
   ]
  },
  {
   "cell_type": "code",
   "execution_count": 5,
   "metadata": {},
   "outputs": [
    {
     "data": {
      "text/html": [
       "<div>\n",
       "<style scoped>\n",
       "    .dataframe tbody tr th:only-of-type {\n",
       "        vertical-align: middle;\n",
       "    }\n",
       "\n",
       "    .dataframe tbody tr th {\n",
       "        vertical-align: top;\n",
       "    }\n",
       "\n",
       "    .dataframe thead th {\n",
       "        text-align: right;\n",
       "    }\n",
       "</style>\n",
       "<table border=\"1\" class=\"dataframe\">\n",
       "  <thead>\n",
       "    <tr style=\"text-align: right;\">\n",
       "      <th></th>\n",
       "      <th>sepallength</th>\n",
       "      <th>sepalwidth</th>\n",
       "      <th>petallength</th>\n",
       "      <th>petalwidth</th>\n",
       "    </tr>\n",
       "  </thead>\n",
       "  <tbody>\n",
       "    <tr>\n",
       "      <th>count</th>\n",
       "      <td>150.000000</td>\n",
       "      <td>150.000000</td>\n",
       "      <td>150.000000</td>\n",
       "      <td>150.000000</td>\n",
       "    </tr>\n",
       "    <tr>\n",
       "      <th>mean</th>\n",
       "      <td>5.843333</td>\n",
       "      <td>3.054000</td>\n",
       "      <td>3.758667</td>\n",
       "      <td>1.198667</td>\n",
       "    </tr>\n",
       "    <tr>\n",
       "      <th>std</th>\n",
       "      <td>0.828066</td>\n",
       "      <td>0.433594</td>\n",
       "      <td>1.764420</td>\n",
       "      <td>0.763161</td>\n",
       "    </tr>\n",
       "    <tr>\n",
       "      <th>min</th>\n",
       "      <td>4.300000</td>\n",
       "      <td>2.000000</td>\n",
       "      <td>1.000000</td>\n",
       "      <td>0.100000</td>\n",
       "    </tr>\n",
       "    <tr>\n",
       "      <th>25%</th>\n",
       "      <td>5.100000</td>\n",
       "      <td>2.800000</td>\n",
       "      <td>1.600000</td>\n",
       "      <td>0.300000</td>\n",
       "    </tr>\n",
       "    <tr>\n",
       "      <th>50%</th>\n",
       "      <td>5.800000</td>\n",
       "      <td>3.000000</td>\n",
       "      <td>4.350000</td>\n",
       "      <td>1.300000</td>\n",
       "    </tr>\n",
       "    <tr>\n",
       "      <th>75%</th>\n",
       "      <td>6.400000</td>\n",
       "      <td>3.300000</td>\n",
       "      <td>5.100000</td>\n",
       "      <td>1.800000</td>\n",
       "    </tr>\n",
       "    <tr>\n",
       "      <th>max</th>\n",
       "      <td>7.900000</td>\n",
       "      <td>4.400000</td>\n",
       "      <td>6.900000</td>\n",
       "      <td>2.500000</td>\n",
       "    </tr>\n",
       "  </tbody>\n",
       "</table>\n",
       "</div>"
      ],
      "text/plain": [
       "       sepallength  sepalwidth  petallength  petalwidth\n",
       "count   150.000000  150.000000   150.000000  150.000000\n",
       "mean      5.843333    3.054000     3.758667    1.198667\n",
       "std       0.828066    0.433594     1.764420    0.763161\n",
       "min       4.300000    2.000000     1.000000    0.100000\n",
       "25%       5.100000    2.800000     1.600000    0.300000\n",
       "50%       5.800000    3.000000     4.350000    1.300000\n",
       "75%       6.400000    3.300000     5.100000    1.800000\n",
       "max       7.900000    4.400000     6.900000    2.500000"
      ]
     },
     "execution_count": 5,
     "metadata": {},
     "output_type": "execute_result"
    }
   ],
   "source": [
    "df.describe()"
   ]
  },
  {
   "cell_type": "markdown",
   "metadata": {},
   "source": [
    "The dataset consists of 150 data rows and 4 numerical columns, which represent the dimensions of iris flowers. There are no missing values. In the original dataset, each data row is labelled. The label is the species, and there are three species in the dataset: iris setosa, iris versicolor and iris virginica.\n",
    "\n",
    "Let's check the distribution of the numerical attributes."
   ]
  },
  {
   "cell_type": "code",
   "execution_count": 6,
   "metadata": {},
   "outputs": [
    {
     "data": {
      "text/plain": [
       "array([[<Axes: title={'center': 'sepallength'}>,\n",
       "        <Axes: title={'center': 'sepalwidth'}>],\n",
       "       [<Axes: title={'center': 'petallength'}>,\n",
       "        <Axes: title={'center': 'petalwidth'}>]], dtype=object)"
      ]
     },
     "execution_count": 6,
     "metadata": {},
     "output_type": "execute_result"
    },
    {
     "data": {
      "image/png": "[encoded data removed]",
      "text/plain": [
       "<Figure size 640x480 with 4 Axes>"
      ]
     },
     "metadata": {},
     "output_type": "display_data"
    }
   ],
   "source": [
    "df.hist(bins=50)"
   ]
  },
  {
   "cell_type": "code",
   "execution_count": 7,
   "metadata": {},
   "outputs": [
    {
     "data": {
      "text/plain": [
       "<Axes: >"
      ]
     },
     "execution_count": 7,
     "metadata": {},
     "output_type": "execute_result"
    },
    {
     "data": {
      "image/png": "[encoded data removed]",
      "text/plain": [
       "<Figure size 640x480 with 1 Axes>"
      ]
     },
     "metadata": {},
     "output_type": "display_data"
    }
   ],
   "source": [
    "df.boxplot()"
   ]
  },
  {
   "cell_type": "markdown",
   "metadata": {},
   "source": [
    "In general, clustering algorithms benefit from standardising the data. In this case, we can apply MinMaxScaler or StandardScaler to the three columns without outliers and RobustScaler to petallength. We can also apply log transformation to petallength and petalwidth which appear skewed to the left. \n",
    "\n",
    "We will do this by constructing a scikit-learn pipeline for data preparation (preprocess_pipeline). Pipelines make it easier to explore various options for the data preparation step and tune hyperparameters. In this e-tivity we will only use a pipeline as a more structured approach to data preparation. We will see how pipelines can be used for hyperparameter tuning in e-tivity 3."
   ]
  },
  {
   "cell_type": "code",
   "execution_count": 8,
   "metadata": {},
   "outputs": [],
   "source": [
    "# First, we define a pipeline consisting of two transforms, applied to the petallength and petalwidth columns in a sequence.\n",
    "petal_pipeline = Pipeline(\n",
    "    steps = [\n",
    "        (\"distribution_transform\", FunctionTransformer(func=np.log)), \n",
    "        (\"scaler\", MinMaxScaler())\n",
    "    ]\n",
    ")\n",
    "\n",
    "# Next, we use ColumnTransformer to construct the main preprocessing pipeline which consists of all data preprocessing steps applied to all columns.\n",
    "preprocess_pipeline = ColumnTransformer(\n",
    "    transformers = [\n",
    "        (\"sepallength\", StandardScaler(), ['sepallength']),    # preprocessing of sepallength\n",
    "        (\"sepalwidth\", RobustScaler(), ['sepalwidth'])         # preprocessing of sepalwidth\n",
    "    ],\n",
    "    remainder = petal_pipeline # applied to 'petallength' and 'petalwidth'\n",
    ")"
   ]
  },
  {
   "cell_type": "markdown",
   "metadata": {},
   "source": [
    "### C. Scatterplot Function (to be used below for visualising a clustering)\n",
    "\n",
    "Skip this section when you read the notebook for the first time.\n",
    "\n",
    "The function `clustering_scatterplot()` creates the 2D scatter plot of the clustered dataset."
   ]
  },
  {
   "cell_type": "code",
   "execution_count": 9,
   "metadata": {},
   "outputs": [],
   "source": [
    "colors = np.array(['orange', 'blue', 'lime', 'khaki', 'pink', 'green', 'purple'])\n",
    "\n",
    "# points - a 2D array of (x,y) coordinates of data points\n",
    "# labels - an array of numeric labels in the interval [0..k-1], one for each point\n",
    "# centers - a 2D array of (x, y) coordinates of cluster centers\n",
    "# title - title of the plot\n",
    "\n",
    "\n",
    "def clustering_scatterplot(points, labels, centers, title):\n",
    "    \n",
    "    \n",
    "    n_clusters = np.unique(labels).size\n",
    "    for i in range(n_clusters):\n",
    "        h = plt.scatter(points[labels==i,0],\n",
    "                        points[labels==i,1], \n",
    "                        c=colors[i%colors.size],\n",
    "                        label = 'cluster '+str(i))\n",
    "\n",
    "    # plot the centers of the clusters\n",
    "    if centers is not None:\n",
    "        plt.scatter(centers[:,0], centers[:,1], c='r', marker='*', s=500)\n",
    "\n",
    "    _ = plt.title(title)\n",
    "    _ = plt.legend()\n",
    "    _ = plt.xlabel('x')\n",
    "    _ = plt.ylabel('y')"
   ]
  },
  {
   "cell_type": "markdown",
   "metadata": {},
   "source": [
    "### D. K-Means Clustering"
   ]
  },
  {
   "cell_type": "markdown",
   "metadata": {},
   "source": [
    "The k-Means clustering algorithm has the number of clusters $k$ as an input parameter __n_clusters__. We construct a final pipeline for training a k-Means clustering model for a fixed value of __n_clusters__ $=3$. The final pipeline has the preprocessing pipeline as its first step followed by the scikit-learn KMeans algorithm as a second step."
   ]
  },
  {
   "cell_type": "code",
   "execution_count": 10,
   "metadata": {},
   "outputs": [],
   "source": [
    "k = 3\n",
    "\n",
    "pipe = Pipeline(steps=[\n",
    "    ('preprocess', preprocess_pipeline), \n",
    "    ('kMeans', cluster.KMeans(n_clusters=k, n_init=10, max_iter=300))\n",
    "])"
   ]
  },
  {
   "cell_type": "markdown",
   "metadata": {},
   "source": [
    "Next, we fit the pipeline on the dataset to train a clustering model."
   ]
  },
  {
   "cell_type": "code",
   "execution_count": 11,
   "metadata": {},
   "outputs": [
    {
     "name": "stderr",
     "output_type": "stream",
     "text": [
      "C:\\ProgramData\\anaconda3\\Lib\\site-packages\\sklearn\\cluster\\_kmeans.py:1382: UserWarning: KMeans is known to have a memory leak on Windows with MKL, when there are less chunks than available threads. You can avoid it by setting the environment variable OMP_NUM_THREADS=1.\n",
      "  warnings.warn(\n"
     ]
    }
   ],
   "source": [
    "clustering_model = pipe.fit(df)"
   ]
  },
  {
   "cell_type": "code",
   "execution_count": 12,
   "metadata": {},
   "outputs": [
    {
     "data": {
      "text/plain": [
       "array([[-0.90068117,  1.        ,  0.17420062,  0.21533828],\n",
       "       [-1.14301691,  0.        ,  0.17420062,  0.21533828],\n",
       "       [-1.38535265,  0.4       ,  0.13583296,  0.21533828],\n",
       "       [-1.50652052,  0.2       ,  0.20992007,  0.21533828],\n",
       "       [-1.02184904,  1.2       ,  0.17420062,  0.21533828],\n",
       "       [-0.53717756,  1.8       ,  0.27472036,  0.43067656],\n",
       "       [-1.50652052,  0.8       ,  0.17420062,  0.3413031 ],\n",
       "       [-1.02184904,  0.8       ,  0.20992007,  0.21533828],\n",
       "       [-1.74885626, -0.2       ,  0.17420062,  0.21533828],\n",
       "       [-1.14301691,  0.2       ,  0.20992007,  0.        ],\n",
       "       [-0.53717756,  1.4       ,  0.20992007,  0.21533828],\n",
       "       [-1.26418478,  0.8       ,  0.24333338,  0.21533828],\n",
       "       [-1.26418478,  0.        ,  0.17420062,  0.        ],\n",
       "       [-1.87002413,  0.        ,  0.04934461,  0.        ],\n",
       "       [-0.05250608,  2.        ,  0.09439272,  0.21533828],\n",
       "       [-0.17367395,  2.8       ,  0.20992007,  0.43067656],\n",
       "       [-0.53717756,  1.8       ,  0.13583296,  0.43067656],\n",
       "       [-0.90068117,  1.        ,  0.17420062,  0.3413031 ],\n",
       "       [-0.17367395,  1.6       ,  0.27472036,  0.3413031 ],\n",
       "       [-0.90068117,  1.6       ,  0.20992007,  0.3413031 ],\n",
       "       [-0.53717756,  0.8       ,  0.27472036,  0.21533828],\n",
       "       [-0.90068117,  1.4       ,  0.20992007,  0.43067656],\n",
       "       [-1.50652052,  1.2       ,  0.        ,  0.21533828],\n",
       "       [-0.90068117,  0.6       ,  0.27472036,  0.5       ],\n",
       "       [-1.26418478,  0.8       ,  0.33230483,  0.21533828],\n",
       "       [-1.02184904,  0.        ,  0.24333338,  0.21533828],\n",
       "       [-1.02184904,  0.8       ,  0.24333338,  0.43067656],\n",
       "       [-0.7795133 ,  1.        ,  0.20992007,  0.21533828],\n",
       "       [-0.7795133 ,  0.8       ,  0.17420062,  0.21533828],\n",
       "       [-1.38535265,  0.4       ,  0.24333338,  0.21533828],\n",
       "       [-1.26418478,  0.2       ,  0.24333338,  0.21533828],\n",
       "       [-0.53717756,  0.8       ,  0.20992007,  0.43067656],\n",
       "       [-0.7795133 ,  2.2       ,  0.20992007,  0.        ],\n",
       "       [-0.41600969,  2.4       ,  0.17420062,  0.21533828],\n",
       "       [-1.14301691,  0.2       ,  0.20992007,  0.        ],\n",
       "       [-1.02184904,  0.4       ,  0.09439272,  0.21533828],\n",
       "       [-0.41600969,  1.        ,  0.13583296,  0.21533828],\n",
       "       [-1.14301691,  0.2       ,  0.20992007,  0.        ],\n",
       "       [-1.74885626,  0.        ,  0.13583296,  0.21533828],\n",
       "       [-0.90068117,  0.8       ,  0.20992007,  0.21533828],\n",
       "       [-1.02184904,  1.        ,  0.13583296,  0.3413031 ],\n",
       "       [-1.62768839, -1.4       ,  0.13583296,  0.3413031 ],\n",
       "       [-1.74885626,  0.4       ,  0.13583296,  0.21533828],\n",
       "       [-1.02184904,  1.        ,  0.24333338,  0.55664138],\n",
       "       [-0.90068117,  1.6       ,  0.33230483,  0.43067656],\n",
       "       [-1.26418478,  0.        ,  0.17420062,  0.3413031 ],\n",
       "       [-0.90068117,  1.6       ,  0.24333338,  0.21533828],\n",
       "       [-1.50652052,  0.4       ,  0.17420062,  0.21533828],\n",
       "       [-0.65834543,  1.4       ,  0.20992007,  0.21533828],\n",
       "       [-1.02184904,  0.6       ,  0.17420062,  0.21533828],\n",
       "       [ 1.40150837,  0.4       ,  0.80121427,  0.81986926],\n",
       "       [ 0.67450115,  0.4       ,  0.77870087,  0.8413031 ],\n",
       "       [ 1.2803405 ,  0.2       ,  0.82278933,  0.8413031 ],\n",
       "       [-0.41600969, -1.4       ,  0.71772146,  0.79684632],\n",
       "       [ 0.79566902, -0.4       ,  0.79007993,  0.8413031 ],\n",
       "       [-0.17367395, -0.4       ,  0.77870087,  0.79684632],\n",
       "       [ 0.55333328,  0.6       ,  0.80121427,  0.86135312],\n",
       "       [-1.14301691, -1.2       ,  0.61812541,  0.71533828],\n",
       "       [ 0.91683689, -0.2       ,  0.79007993,  0.79684632],\n",
       "       [-0.7795133 , -0.6       ,  0.70461375,  0.81986926],\n",
       "       [-1.02184904, -2.        ,  0.6485887 ,  0.71533828],\n",
       "       [ 0.06866179,  0.        ,  0.74298142,  0.8413031 ],\n",
       "       [ 0.18982966, -1.6       ,  0.71772146,  0.71533828],\n",
       "       [ 0.31099753, -0.2       ,  0.80121427,  0.81986926],\n",
       "       [-0.29484182, -0.2       ,  0.66317352,  0.79684632],\n",
       "       [ 1.03800476,  0.2       ,  0.76706607,  0.81986926],\n",
       "       [-0.29484182,  0.        ,  0.77870087,  0.8413031 ],\n",
       "       [-0.05250608, -0.6       ,  0.73050548,  0.71533828],\n",
       "       [ 0.4321654 , -1.6       ,  0.77870087,  0.8413031 ],\n",
       "       [-0.29484182, -1.        ,  0.70461375,  0.74494805],\n",
       "       [ 0.06866179,  0.4       ,  0.81211418,  0.89794447],\n",
       "       [ 0.31099753, -0.4       ,  0.71772146,  0.79684632],\n",
       "       [ 0.55333328, -1.        ,  0.82278933,  0.8413031 ],\n",
       "       [ 0.31099753, -0.4       ,  0.80121427,  0.77197966],\n",
       "       [ 0.67450115, -0.2       ,  0.75516379,  0.79684632],\n",
       "       [ 0.91683689,  0.        ,  0.76706607,  0.81986926],\n",
       "       [ 1.15917263, -0.4       ,  0.81211418,  0.81986926],\n",
       "       [ 1.03800476,  0.        ,  0.83324881,  0.88018721],\n",
       "       [ 0.18982966, -0.2       ,  0.77870087,  0.8413031 ],\n",
       "       [-0.17367395, -0.8       ,  0.6485887 ,  0.71533828],\n",
       "       [-0.41600969, -1.2       ,  0.69116555,  0.74494805],\n",
       "       [-0.41600969, -1.2       ,  0.67735869,  0.71533828],\n",
       "       [-0.05250608, -0.6       ,  0.70461375,  0.77197966],\n",
       "       [ 0.18982966, -0.6       ,  0.84350115,  0.86135312],\n",
       "       [-0.53717756,  0.        ,  0.77870087,  0.8413031 ],\n",
       "       [ 0.18982966,  0.8       ,  0.77870087,  0.86135312],\n",
       "       [ 1.03800476,  0.2       ,  0.80121427,  0.8413031 ],\n",
       "       [ 0.55333328, -1.4       ,  0.76706607,  0.79684632],\n",
       "       [-0.29484182,  0.        ,  0.73050548,  0.79684632],\n",
       "       [-0.41600969, -1.        ,  0.71772146,  0.79684632],\n",
       "       [-0.41600969, -0.8       ,  0.76706607,  0.77197966],\n",
       "       [ 0.31099753,  0.        ,  0.79007993,  0.81986926],\n",
       "       [-0.05250608, -0.8       ,  0.71772146,  0.77197966],\n",
       "       [-1.02184904, -1.4       ,  0.61812541,  0.71533828],\n",
       "       [-0.29484182, -0.6       ,  0.74298142,  0.79684632],\n",
       "       [-0.17367395,  0.        ,  0.74298142,  0.77197966],\n",
       "       [-0.17367395, -0.2       ,  0.74298142,  0.79684632],\n",
       "       [ 0.4321654 , -0.2       ,  0.75516379,  0.79684632],\n",
       "       [-0.90068117, -1.        ,  0.5687808 ,  0.74494805],\n",
       "       [-0.17367395, -0.4       ,  0.73050548,  0.79684632],\n",
       "       [ 0.55333328,  0.6       ,  0.92764153,  1.        ],\n",
       "       [-0.05250608, -0.6       ,  0.84350115,  0.9147414 ],\n",
       "       [ 1.52267624,  0.        ,  0.91894003,  0.94583407],\n",
       "       [ 0.55333328, -0.2       ,  0.89192208,  0.89794447],\n",
       "       [ 0.79566902,  0.        ,  0.91008979,  0.96028633],\n",
       "       [ 2.12851559,  0.        ,  0.97698614,  0.94583407],\n",
       "       [-1.14301691, -1.        ,  0.77870087,  0.88018721],\n",
       "       [ 1.76501198, -0.2       ,  0.95290149,  0.89794447],\n",
       "       [ 1.03800476, -1.        ,  0.91008979,  0.89794447],\n",
       "       [ 1.64384411,  1.2       ,  0.93619918,  1.        ],\n",
       "       [ 0.79566902,  0.4       ,  0.84350115,  0.93067656],\n",
       "       [ 0.67450115, -0.6       ,  0.86341617,  0.9147414 ],\n",
       "       [ 1.15917263,  0.        ,  0.88259342,  0.94583407],\n",
       "       [-0.17367395, -1.        ,  0.83324881,  0.93067656],\n",
       "       [-0.05250608, -0.4       ,  0.84350115,  0.98731793],\n",
       "       [ 0.67450115,  0.4       ,  0.86341617,  0.97409605],\n",
       "       [ 0.79566902,  0.        ,  0.88259342,  0.89794447],\n",
       "       [ 2.24968346,  1.6       ,  0.98477165,  0.96028633],\n",
       "       [ 2.24968346, -0.8       ,  1.        ,  0.97409605],\n",
       "       [ 0.18982966, -1.6       ,  0.83324881,  0.8413031 ],\n",
       "       [ 1.2803405 ,  0.4       ,  0.90108562,  0.97409605],\n",
       "       [-0.29484182, -0.4       ,  0.82278933,  0.93067656],\n",
       "       [ 2.24968346, -0.4       ,  0.98477165,  0.93067656],\n",
       "       [ 0.55333328, -0.6       ,  0.82278933,  0.89794447],\n",
       "       [ 1.03800476,  0.6       ,  0.90108562,  0.94583407],\n",
       "       [ 1.64384411,  0.4       ,  0.92764153,  0.89794447],\n",
       "       [ 0.4321654 , -0.4       ,  0.81211418,  0.89794447],\n",
       "       [ 0.31099753,  0.        ,  0.82278933,  0.89794447],\n",
       "       [ 0.67450115, -0.4       ,  0.89192208,  0.94583407],\n",
       "       [ 1.64384411,  0.        ,  0.91008979,  0.86135312],\n",
       "       [ 1.88617985, -0.4       ,  0.93619918,  0.9147414 ],\n",
       "       [ 2.4920192 ,  1.6       ,  0.96105483,  0.93067656],\n",
       "       [ 0.67450115, -0.4       ,  0.89192208,  0.96028633],\n",
       "       [ 0.55333328, -0.4       ,  0.84350115,  0.8413031 ],\n",
       "       [ 0.31099753, -0.8       ,  0.89192208,  0.81986926],\n",
       "       [ 2.24968346,  0.        ,  0.93619918,  0.97409605],\n",
       "       [ 0.55333328,  0.8       ,  0.89192208,  0.98731793],\n",
       "       [ 0.67450115,  0.2       ,  0.88259342,  0.89794447],\n",
       "       [ 0.18982966,  0.        ,  0.81211418,  0.89794447],\n",
       "       [ 1.2803405 ,  0.2       ,  0.87309358,  0.94583407],\n",
       "       [ 1.03800476,  0.2       ,  0.89192208,  0.98731793],\n",
       "       [ 1.2803405 ,  0.2       ,  0.84350115,  0.97409605],\n",
       "       [-0.05250608, -0.6       ,  0.84350115,  0.9147414 ],\n",
       "       [ 1.15917263,  0.4       ,  0.91894003,  0.97409605],\n",
       "       [ 1.03800476,  0.6       ,  0.90108562,  1.        ],\n",
       "       [ 1.03800476,  0.        ,  0.85355441,  0.97409605],\n",
       "       [ 0.55333328, -1.        ,  0.83324881,  0.9147414 ],\n",
       "       [ 0.79566902,  0.        ,  0.85355441,  0.93067656],\n",
       "       [ 0.4321654 ,  0.8       ,  0.87309358,  0.97409605],\n",
       "       [ 0.06866179,  0.        ,  0.84350115,  0.89794447]])"
      ]
     },
     "execution_count": 12,
     "metadata": {},
     "output_type": "execute_result"
    }
   ],
   "source": [
    "# Here we use the preprocessing step of the pipeline to get a copy of the dataset with the preprocessing steps applied to it.\n",
    "preprocessed_data = clustering_model['preprocess'].transform(df)\n",
    "preprocessed_data"
   ]
  },
  {
   "cell_type": "markdown",
   "metadata": {},
   "source": [
    "### E. Apply a manifold-learning technique to project the data set to a 2D space\n",
    "\n",
    "https://scikit-learn.org/stable/modules/manifold.html"
   ]
  },
  {
   "cell_type": "markdown",
   "metadata": {},
   "source": [
    "Append the cluster centers to the preprocessed dataset."
   ]
  },
  {
   "cell_type": "code",
   "execution_count": 13,
   "metadata": {},
   "outputs": [],
   "source": [
    "data_and_centers = np.r_[preprocessed_data,clustering_model['kMeans'].cluster_centers_]"
   ]
  },
  {
   "cell_type": "markdown",
   "metadata": {},
   "source": [
    "#### E1. Apply multi-dimensional scaling (MDS) to project both the data and the k-Means cluster centers to a 2D space"
   ]
  },
  {
   "cell_type": "markdown",
   "metadata": {},
   "source": [
    "Project both the data and the k-Means cluster centers to 2D."
   ]
  },
  {
   "cell_type": "code",
   "execution_count": 14,
   "metadata": {},
   "outputs": [
    {
     "name": "stdout",
     "output_type": "stream",
     "text": [
      "transformation complete\n"
     ]
    }
   ],
   "source": [
    "XYcoordinates = manifold.MDS(n_components=2, normalized_stress='auto').fit_transform(data_and_centers)\n",
    "print(\"transformation complete\")"
   ]
  },
  {
   "cell_type": "markdown",
   "metadata": {},
   "source": [
    "Plot the transformed examples and the centers. Use the cluster assignment to colour the examples."
   ]
  },
  {
   "cell_type": "code",
   "execution_count": 15,
   "metadata": {},
   "outputs": [
    {
     "data": {
      "image/png": "[encoded data removed]",
      "text/plain": [
       "<Figure size 640x480 with 1 Axes>"
      ]
     },
     "metadata": {},
     "output_type": "display_data"
    }
   ],
   "source": [
    "clustering_scatterplot(points=XYcoordinates[:-k,:], \n",
    "                       labels=clustering_model['kMeans'].labels_, \n",
    "                       centers=XYcoordinates[-k:,:], \n",
    "                       title='MDS')"
   ]
  },
  {
   "cell_type": "markdown",
   "metadata": {},
   "source": [
    "#### E2. Apply t-SNE to project both the data and the k-Means cluster centers to a 2D space"
   ]
  },
  {
   "cell_type": "markdown",
   "metadata": {},
   "source": [
    "Project both the data and the k-Means cluster centers to 2D."
   ]
  },
  {
   "cell_type": "code",
   "execution_count": 16,
   "metadata": {},
   "outputs": [
    {
     "name": "stdout",
     "output_type": "stream",
     "text": [
      "transformation complete\n"
     ]
    }
   ],
   "source": [
    "XYcoordinates = manifold.TSNE(n_components=2).fit_transform(data_and_centers)\n",
    "print(\"transformation complete\")"
   ]
  },
  {
   "cell_type": "markdown",
   "metadata": {},
   "source": [
    "Plot the transformed examples and the centers. Use the cluster assignment to colour the examples."
   ]
  },
  {
   "cell_type": "code",
   "execution_count": 17,
   "metadata": {},
   "outputs": [
    {
     "data": {
      "image/png": "[encoded data removed]",
      "text/plain": [
       "<Figure size 640x480 with 1 Axes>"
      ]
     },
     "metadata": {},
     "output_type": "display_data"
    }
   ],
   "source": [
    "clustering_scatterplot(points=XYcoordinates[:-k,:], \n",
    "                       labels=clustering_model['kMeans'].labels_,\n",
    "                       centers=XYcoordinates[-k:,:], \n",
    "                       title='TSNE')"
   ]
  },
  {
   "cell_type": "markdown",
   "metadata": {},
   "source": [
    "### F. Cluster Analysis"
   ]
  },
  {
   "cell_type": "markdown",
   "metadata": {},
   "source": [
    "#### Add the cluster labels as an extra column in the original dataframe"
   ]
  },
  {
   "cell_type": "code",
   "execution_count": 18,
   "metadata": {},
   "outputs": [],
   "source": [
    "df['cluster'] = pd.Series(clustering_model['kMeans'].labels_, index=df.index)"
   ]
  },
  {
   "cell_type": "code",
   "execution_count": 19,
   "metadata": {},
   "outputs": [
    {
     "data": {
      "text/html": [
       "<div>\n",
       "<style scoped>\n",
       "    .dataframe tbody tr th:only-of-type {\n",
       "        vertical-align: middle;\n",
       "    }\n",
       "\n",
       "    .dataframe tbody tr th {\n",
       "        vertical-align: top;\n",
       "    }\n",
       "\n",
       "    .dataframe thead th {\n",
       "        text-align: right;\n",
       "    }\n",
       "</style>\n",
       "<table border=\"1\" class=\"dataframe\">\n",
       "  <thead>\n",
       "    <tr style=\"text-align: right;\">\n",
       "      <th></th>\n",
       "      <th>sepallength</th>\n",
       "      <th>sepalwidth</th>\n",
       "      <th>petallength</th>\n",
       "      <th>petalwidth</th>\n",
       "      <th>cluster</th>\n",
       "    </tr>\n",
       "  </thead>\n",
       "  <tbody>\n",
       "    <tr>\n",
       "      <th>0</th>\n",
       "      <td>5.1</td>\n",
       "      <td>3.5</td>\n",
       "      <td>1.4</td>\n",
       "      <td>0.2</td>\n",
       "      <td>1</td>\n",
       "    </tr>\n",
       "    <tr>\n",
       "      <th>1</th>\n",
       "      <td>4.9</td>\n",
       "      <td>3.0</td>\n",
       "      <td>1.4</td>\n",
       "      <td>0.2</td>\n",
       "      <td>1</td>\n",
       "    </tr>\n",
       "    <tr>\n",
       "      <th>2</th>\n",
       "      <td>4.7</td>\n",
       "      <td>3.2</td>\n",
       "      <td>1.3</td>\n",
       "      <td>0.2</td>\n",
       "      <td>1</td>\n",
       "    </tr>\n",
       "    <tr>\n",
       "      <th>3</th>\n",
       "      <td>4.6</td>\n",
       "      <td>3.1</td>\n",
       "      <td>1.5</td>\n",
       "      <td>0.2</td>\n",
       "      <td>1</td>\n",
       "    </tr>\n",
       "    <tr>\n",
       "      <th>4</th>\n",
       "      <td>5.0</td>\n",
       "      <td>3.6</td>\n",
       "      <td>1.4</td>\n",
       "      <td>0.2</td>\n",
       "      <td>1</td>\n",
       "    </tr>\n",
       "  </tbody>\n",
       "</table>\n",
       "</div>"
      ],
      "text/plain": [
       "   sepallength  sepalwidth  petallength  petalwidth  cluster\n",
       "0          5.1         3.5          1.4         0.2        1\n",
       "1          4.9         3.0          1.4         0.2        1\n",
       "2          4.7         3.2          1.3         0.2        1\n",
       "3          4.6         3.1          1.5         0.2        1\n",
       "4          5.0         3.6          1.4         0.2        1"
      ]
     },
     "execution_count": 19,
     "metadata": {},
     "output_type": "execute_result"
    }
   ],
   "source": [
    "df.head()"
   ]
  },
  {
   "cell_type": "code",
   "execution_count": 20,
   "metadata": {},
   "outputs": [
    {
     "data": {
      "text/html": [
       "<div>\n",
       "<style scoped>\n",
       "    .dataframe tbody tr th:only-of-type {\n",
       "        vertical-align: middle;\n",
       "    }\n",
       "\n",
       "    .dataframe tbody tr th {\n",
       "        vertical-align: top;\n",
       "    }\n",
       "\n",
       "    .dataframe thead th {\n",
       "        text-align: right;\n",
       "    }\n",
       "</style>\n",
       "<table border=\"1\" class=\"dataframe\">\n",
       "  <thead>\n",
       "    <tr style=\"text-align: right;\">\n",
       "      <th></th>\n",
       "      <th>sepallength</th>\n",
       "      <th>sepalwidth</th>\n",
       "      <th>petallength</th>\n",
       "      <th>petalwidth</th>\n",
       "      <th>cluster</th>\n",
       "    </tr>\n",
       "  </thead>\n",
       "  <tbody>\n",
       "    <tr>\n",
       "      <th>145</th>\n",
       "      <td>6.7</td>\n",
       "      <td>3.0</td>\n",
       "      <td>5.2</td>\n",
       "      <td>2.3</td>\n",
       "      <td>0</td>\n",
       "    </tr>\n",
       "    <tr>\n",
       "      <th>146</th>\n",
       "      <td>6.3</td>\n",
       "      <td>2.5</td>\n",
       "      <td>5.0</td>\n",
       "      <td>1.9</td>\n",
       "      <td>2</td>\n",
       "    </tr>\n",
       "    <tr>\n",
       "      <th>147</th>\n",
       "      <td>6.5</td>\n",
       "      <td>3.0</td>\n",
       "      <td>5.2</td>\n",
       "      <td>2.0</td>\n",
       "      <td>0</td>\n",
       "    </tr>\n",
       "    <tr>\n",
       "      <th>148</th>\n",
       "      <td>6.2</td>\n",
       "      <td>3.4</td>\n",
       "      <td>5.4</td>\n",
       "      <td>2.3</td>\n",
       "      <td>0</td>\n",
       "    </tr>\n",
       "    <tr>\n",
       "      <th>149</th>\n",
       "      <td>5.9</td>\n",
       "      <td>3.0</td>\n",
       "      <td>5.1</td>\n",
       "      <td>1.8</td>\n",
       "      <td>2</td>\n",
       "    </tr>\n",
       "  </tbody>\n",
       "</table>\n",
       "</div>"
      ],
      "text/plain": [
       "     sepallength  sepalwidth  petallength  petalwidth  cluster\n",
       "145          6.7         3.0          5.2         2.3        0\n",
       "146          6.3         2.5          5.0         1.9        2\n",
       "147          6.5         3.0          5.2         2.0        0\n",
       "148          6.2         3.4          5.4         2.3        0\n",
       "149          5.9         3.0          5.1         1.8        2"
      ]
     },
     "execution_count": 20,
     "metadata": {},
     "output_type": "execute_result"
    }
   ],
   "source": [
    "df.tail()"
   ]
  },
  {
   "cell_type": "markdown",
   "metadata": {},
   "source": [
    "#### Compute the mean value of each attribute for each cluster"
   ]
  },
  {
   "cell_type": "code",
   "execution_count": 21,
   "metadata": {},
   "outputs": [
    {
     "data": {
      "text/html": [
       "<div>\n",
       "<style scoped>\n",
       "    .dataframe tbody tr th:only-of-type {\n",
       "        vertical-align: middle;\n",
       "    }\n",
       "\n",
       "    .dataframe tbody tr th {\n",
       "        vertical-align: top;\n",
       "    }\n",
       "\n",
       "    .dataframe thead th {\n",
       "        text-align: right;\n",
       "    }\n",
       "</style>\n",
       "<table border=\"1\" class=\"dataframe\">\n",
       "  <thead>\n",
       "    <tr style=\"text-align: right;\">\n",
       "      <th></th>\n",
       "      <th>sepallength</th>\n",
       "      <th>sepalwidth</th>\n",
       "      <th>petallength</th>\n",
       "      <th>petalwidth</th>\n",
       "    </tr>\n",
       "    <tr>\n",
       "      <th>cluster</th>\n",
       "      <th></th>\n",
       "      <th></th>\n",
       "      <th></th>\n",
       "      <th></th>\n",
       "    </tr>\n",
       "  </thead>\n",
       "  <tbody>\n",
       "    <tr>\n",
       "      <th>0</th>\n",
       "      <td>6.837209</td>\n",
       "      <td>3.120930</td>\n",
       "      <td>5.462791</td>\n",
       "      <td>1.939535</td>\n",
       "    </tr>\n",
       "    <tr>\n",
       "      <th>1</th>\n",
       "      <td>5.016327</td>\n",
       "      <td>3.440816</td>\n",
       "      <td>1.467347</td>\n",
       "      <td>0.242857</td>\n",
       "    </tr>\n",
       "    <tr>\n",
       "      <th>2</th>\n",
       "      <td>5.805172</td>\n",
       "      <td>2.677586</td>\n",
       "      <td>4.431034</td>\n",
       "      <td>1.456897</td>\n",
       "    </tr>\n",
       "  </tbody>\n",
       "</table>\n",
       "</div>"
      ],
      "text/plain": [
       "         sepallength  sepalwidth  petallength  petalwidth\n",
       "cluster                                                  \n",
       "0           6.837209    3.120930     5.462791    1.939535\n",
       "1           5.016327    3.440816     1.467347    0.242857\n",
       "2           5.805172    2.677586     4.431034    1.456897"
      ]
     },
     "execution_count": 21,
     "metadata": {},
     "output_type": "execute_result"
    }
   ],
   "source": [
    "df.groupby('cluster').mean()"
   ]
  },
  {
   "cell_type": "markdown",
   "metadata": {},
   "source": [
    "#### Conclusion\n",
    "\n",
    "By looking at the table above we can argue that:\n",
    "* Cluster 0 are large iris flowers with the largest petals out of the three types.\n",
    "* Cluster 1 are iris flowers with small petals (notably smaller than the other two types) but with wide sepals, the widest sepals of all three types. This is also the cluster that is clearly differentiated from the other two clusters in the scatter plots.\n",
    "* Cluster 2 flowers are slightly smaller than cluster 0 flowers with a most notable difference in the width of the petals.\n",
    "\n",
    "_Note that this conclusion is true for this run of k-Means. If the code is executed again, k-Means may produce either different clusters or the same clusters but in a different order._"
   ]
  }
 ],
 "metadata": {
  "kernelspec": {
   "display_name": "Python 3 (ipykernel)",
   "language": "python",
   "name": "python3"
  },
  "language_info": {
   "codemirror_mode": {
    "name": "ipython",
    "version": 3
   },
   "file_extension": ".py",
   "mimetype": "text/x-python",
   "name": "python",
   "nbconvert_exporter": "python",
   "pygments_lexer": "ipython3",
   "version": "3.11.7"
  }
 },
 "nbformat": 4,
 "nbformat_minor": 4
}
